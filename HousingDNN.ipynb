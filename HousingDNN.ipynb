{
  "nbformat": 4,
  "nbformat_minor": 0,
  "metadata": {
    "colab": {
      "name": "HousingDNN.ipynb",
      "provenance": [],
      "collapsed_sections": [],
      "authorship_tag": "ABX9TyM2zhgEaEieONlk5/GkWQuz",
      "include_colab_link": true
    },
    "kernelspec": {
      "name": "python3",
      "display_name": "Python 3"
    }
  },
  "cells": [
    {
      "cell_type": "markdown",
      "metadata": {
        "id": "view-in-github",
        "colab_type": "text"
      },
      "source": [
        "<a href=\"https://colab.research.google.com/github/dariushazimi/PredictingHousePrices/blob/master/HousingDNN.ipynb\" target=\"_parent\"><img src=\"https://colab.research.google.com/assets/colab-badge.svg\" alt=\"Open In Colab\"/></a>"
      ]
    },
    {
      "cell_type": "code",
      "metadata": {
        "id": "mscseJa0WsZr",
        "colab_type": "code",
        "colab": {}
      },
      "source": [
        "import keras\n",
        "import numpy as np\n",
        "import pandas as pd\n",
        "import matplotlib.pyplot as plt"
      ],
      "execution_count": 0,
      "outputs": []
    },
    {
      "cell_type": "code",
      "metadata": {
        "id": "9FwmuHOOXBwx",
        "colab_type": "code",
        "colab": {
          "base_uri": "https://localhost:8080/",
          "height": 202
        },
        "outputId": "1617107e-dc73-4255-fc8a-0b8cf6f76770"
      },
      "source": [
        "df = pd.read_csv(\"https://raw.githubusercontent.com/KhanradCoder/LearnKeras/master/2.DNNs/HousingPrices.csv\")\n",
        "df.head()"
      ],
      "execution_count": 18,
      "outputs": [
        {
          "output_type": "execute_result",
          "data": {
            "text/html": [
              "<div>\n",
              "<style scoped>\n",
              "    .dataframe tbody tr th:only-of-type {\n",
              "        vertical-align: middle;\n",
              "    }\n",
              "\n",
              "    .dataframe tbody tr th {\n",
              "        vertical-align: top;\n",
              "    }\n",
              "\n",
              "    .dataframe thead th {\n",
              "        text-align: right;\n",
              "    }\n",
              "</style>\n",
              "<table border=\"1\" class=\"dataframe\">\n",
              "  <thead>\n",
              "    <tr style=\"text-align: right;\">\n",
              "      <th></th>\n",
              "      <th>YearBuilt</th>\n",
              "      <th>2ndFlrSF</th>\n",
              "      <th>GrLivArea</th>\n",
              "      <th>FullBath</th>\n",
              "      <th>HalfBath</th>\n",
              "      <th>BedroomAbvGr</th>\n",
              "      <th>TotRmsAbvGrd</th>\n",
              "      <th>YrSold</th>\n",
              "      <th>SalePrice</th>\n",
              "    </tr>\n",
              "  </thead>\n",
              "  <tbody>\n",
              "    <tr>\n",
              "      <th>0</th>\n",
              "      <td>2003</td>\n",
              "      <td>854</td>\n",
              "      <td>1710</td>\n",
              "      <td>2</td>\n",
              "      <td>1</td>\n",
              "      <td>3</td>\n",
              "      <td>8</td>\n",
              "      <td>2008</td>\n",
              "      <td>208500</td>\n",
              "    </tr>\n",
              "    <tr>\n",
              "      <th>1</th>\n",
              "      <td>1976</td>\n",
              "      <td>0</td>\n",
              "      <td>1262</td>\n",
              "      <td>2</td>\n",
              "      <td>0</td>\n",
              "      <td>3</td>\n",
              "      <td>6</td>\n",
              "      <td>2007</td>\n",
              "      <td>181500</td>\n",
              "    </tr>\n",
              "    <tr>\n",
              "      <th>2</th>\n",
              "      <td>2001</td>\n",
              "      <td>866</td>\n",
              "      <td>1786</td>\n",
              "      <td>2</td>\n",
              "      <td>1</td>\n",
              "      <td>3</td>\n",
              "      <td>6</td>\n",
              "      <td>2008</td>\n",
              "      <td>223500</td>\n",
              "    </tr>\n",
              "    <tr>\n",
              "      <th>3</th>\n",
              "      <td>1915</td>\n",
              "      <td>756</td>\n",
              "      <td>1717</td>\n",
              "      <td>1</td>\n",
              "      <td>0</td>\n",
              "      <td>3</td>\n",
              "      <td>7</td>\n",
              "      <td>2006</td>\n",
              "      <td>140000</td>\n",
              "    </tr>\n",
              "    <tr>\n",
              "      <th>4</th>\n",
              "      <td>2000</td>\n",
              "      <td>1053</td>\n",
              "      <td>2198</td>\n",
              "      <td>2</td>\n",
              "      <td>1</td>\n",
              "      <td>4</td>\n",
              "      <td>9</td>\n",
              "      <td>2008</td>\n",
              "      <td>250000</td>\n",
              "    </tr>\n",
              "  </tbody>\n",
              "</table>\n",
              "</div>"
            ],
            "text/plain": [
              "   YearBuilt  2ndFlrSF  GrLivArea  ...  TotRmsAbvGrd  YrSold  SalePrice\n",
              "0       2003       854       1710  ...             8    2008     208500\n",
              "1       1976         0       1262  ...             6    2007     181500\n",
              "2       2001       866       1786  ...             6    2008     223500\n",
              "3       1915       756       1717  ...             7    2006     140000\n",
              "4       2000      1053       2198  ...             9    2008     250000\n",
              "\n",
              "[5 rows x 9 columns]"
            ]
          },
          "metadata": {
            "tags": []
          },
          "execution_count": 18
        }
      ]
    },
    {
      "cell_type": "code",
      "metadata": {
        "id": "L5uu0y36XhK2",
        "colab_type": "code",
        "colab": {
          "base_uri": "https://localhost:8080/",
          "height": 69
        },
        "outputId": "ee2fb0cb-ff01-4830-9e51-a2c3ca8040d5"
      },
      "source": [
        "df.columns"
      ],
      "execution_count": 10,
      "outputs": [
        {
          "output_type": "execute_result",
          "data": {
            "text/plain": [
              "Index(['YearBuilt', '2ndFlrSF', 'GrLivArea', 'FullBath', 'HalfBath',\n",
              "       'BedroomAbvGr', 'TotRmsAbvGrd', 'YrSold', 'SalePrice'],\n",
              "      dtype='object')"
            ]
          },
          "metadata": {
            "tags": []
          },
          "execution_count": 10
        }
      ]
    },
    {
      "cell_type": "code",
      "metadata": {
        "id": "eVebgnflXPnY",
        "colab_type": "code",
        "colab": {}
      },
      "source": [
        "X = df.drop(columns=['SalePrice'])\n",
        "Y = df[['SalePrice']]"
      ],
      "execution_count": 0,
      "outputs": []
    },
    {
      "cell_type": "code",
      "metadata": {
        "id": "-SPCOTUDXQs-",
        "colab_type": "code",
        "colab": {}
      },
      "source": [
        "model = keras.Sequential()\n",
        "# we create 3 layers with 8 neuron\n",
        "# some equal the number of nuron to the number of features\n",
        "# the more layer you have, the slower\n",
        "# if it is closer to one is one, if it is closer to 0 it is zero\n",
        "# relu is generally the best\n",
        "# input_shape = the number of columns expect the sales price\n",
        "model.add(keras.layers.Dense(8, activation='relu', input_shape = (8,)))\n",
        "model.add(keras.layers.Dense(8, activation='relu'))\n",
        "model.add(keras.layers.Dense(1)) # this is the output layer\n",
        "\n",
        "model.compile(optimizer = 'adam', loss = 'mean_squared_error')"
      ],
      "execution_count": 0,
      "outputs": []
    },
    {
      "cell_type": "code",
      "metadata": {
        "id": "oX1ZH6KSZBBk",
        "colab_type": "code",
        "colab": {
          "base_uri": "https://localhost:8080/",
          "height": 1000
        },
        "outputId": "ac38ebf1-f393-4e30-d8aa-3e2a20d34117"
      },
      "source": [
        "# to avoid over fitting, we do early stopping using call backs\n",
        "# The model will be training and when it is not getting any better\n",
        "# we just stop the training even though we have more epochs to go through to save\n",
        "# some time.\n",
        "\n",
        "model.fit(X, Y, epochs=30, callbacks=[keras.callbacks.EarlyStopping(patience = 5)])"
      ],
      "execution_count": 16,
      "outputs": [
        {
          "output_type": "stream",
          "text": [
            "Epoch 1/30\n",
            "1460/1460 [==============================] - 0s 236us/step - loss: 38822225936.8329\n",
            "Epoch 2/30\n",
            "1460/1460 [==============================] - 0s 39us/step - loss: 38655100350.0712\n",
            "Epoch 3/30\n",
            "1460/1460 [==============================] - 0s 36us/step - loss: 38404638130.8493\n",
            "Epoch 4/30\n",
            "1460/1460 [==============================] - 0s 33us/step - loss: 38029065914.5644\n",
            "Epoch 5/30\n",
            "  32/1460 [..............................] - ETA: 0s - loss: 32733913088.0000"
          ],
          "name": "stdout"
        },
        {
          "output_type": "stream",
          "text": [
            "/usr/local/lib/python3.6/dist-packages/keras/callbacks/callbacks.py:846: RuntimeWarning: Early stopping conditioned on metric `val_loss` which is not available. Available metrics are: loss\n",
            "  (self.monitor, ','.join(list(logs.keys()))), RuntimeWarning\n"
          ],
          "name": "stderr"
        },
        {
          "output_type": "stream",
          "text": [
            "1460/1460 [==============================] - 0s 34us/step - loss: 37495429394.9370\n",
            "Epoch 6/30\n",
            "1460/1460 [==============================] - 0s 34us/step - loss: 36747853622.0055\n",
            "Epoch 7/30\n",
            "1460/1460 [==============================] - 0s 36us/step - loss: 35724980897.3151\n",
            "Epoch 8/30\n",
            "1460/1460 [==============================] - 0s 39us/step - loss: 34383806048.7890\n",
            "Epoch 9/30\n",
            "1460/1460 [==============================] - 0s 40us/step - loss: 32697923886.9918\n",
            "Epoch 10/30\n",
            "1460/1460 [==============================] - 0s 34us/step - loss: 30666157563.7918\n",
            "Epoch 11/30\n",
            "1460/1460 [==============================] - 0s 33us/step - loss: 28173353369.6000\n",
            "Epoch 12/30\n",
            "1460/1460 [==============================] - 0s 37us/step - loss: 25161334116.2959\n",
            "Epoch 13/30\n",
            "1460/1460 [==============================] - 0s 36us/step - loss: 21887628711.6274\n",
            "Epoch 14/30\n",
            "1460/1460 [==============================] - 0s 33us/step - loss: 18568725057.9288\n",
            "Epoch 15/30\n",
            "1460/1460 [==============================] - 0s 34us/step - loss: 15367348162.2795\n",
            "Epoch 16/30\n",
            "1460/1460 [==============================] - 0s 33us/step - loss: 12471649947.7041\n",
            "Epoch 17/30\n",
            "1460/1460 [==============================] - 0s 32us/step - loss: 9896767473.9726\n",
            "Epoch 18/30\n",
            "1460/1460 [==============================] - 0s 35us/step - loss: 7570757967.2548\n",
            "Epoch 19/30\n",
            "1460/1460 [==============================] - 0s 33us/step - loss: 5957595406.7288\n",
            "Epoch 20/30\n",
            "1460/1460 [==============================] - 0s 32us/step - loss: 5009183525.1726\n",
            "Epoch 21/30\n",
            "1460/1460 [==============================] - 0s 35us/step - loss: 4560136497.0959\n",
            "Epoch 22/30\n",
            "1460/1460 [==============================] - 0s 33us/step - loss: 4372484397.5890\n",
            "Epoch 23/30\n",
            "1460/1460 [==============================] - 0s 35us/step - loss: 4299403839.1233\n",
            "Epoch 24/30\n",
            "1460/1460 [==============================] - 0s 33us/step - loss: 4272272946.4986\n",
            "Epoch 25/30\n",
            "1460/1460 [==============================] - 0s 35us/step - loss: 4262855820.2740\n",
            "Epoch 26/30\n",
            "1460/1460 [==============================] - 0s 35us/step - loss: 4255738585.0740\n",
            "Epoch 27/30\n",
            "1460/1460 [==============================] - 0s 32us/step - loss: 4250846812.5808\n",
            "Epoch 28/30\n",
            "1460/1460 [==============================] - 0s 33us/step - loss: 4244093179.0904\n",
            "Epoch 29/30\n",
            "1460/1460 [==============================] - 0s 33us/step - loss: 4237825523.3753\n",
            "Epoch 30/30\n",
            "1460/1460 [==============================] - 0s 34us/step - loss: 4230972347.9671\n"
          ],
          "name": "stdout"
        },
        {
          "output_type": "execute_result",
          "data": {
            "text/plain": [
              "<keras.callbacks.callbacks.History at 0x7f0eca55b6d8>"
            ]
          },
          "metadata": {
            "tags": []
          },
          "execution_count": 16
        }
      ]
    },
    {
      "cell_type": "code",
      "metadata": {
        "id": "r3Tq1bfcZlzs",
        "colab_type": "code",
        "colab": {}
      },
      "source": [
        "# now lets test the model on some test data\n",
        "# for test data we use the first row. We know the value of this house but lets see what the model thinks."
      ],
      "execution_count": 0,
      "outputs": []
    },
    {
      "cell_type": "code",
      "metadata": {
        "id": "6TBlVlzGZ0qq",
        "colab_type": "code",
        "colab": {
          "base_uri": "https://localhost:8080/",
          "height": 35
        },
        "outputId": "ad34fa77-1e76-4c0b-b21b-b1b5a1f07266"
      },
      "source": [
        "test_data = np.array([2003,\t854,\t1710,\t2,\t1,\t3,\t8,\t2008])\n",
        "#actual sale price is 208500\n",
        "print(model.predict(test_data.reshape(1,8), batch_size=1))"
      ],
      "execution_count": 20,
      "outputs": [
        {
          "output_type": "stream",
          "text": [
            "[[208031.3]]\n"
          ],
          "name": "stdout"
        }
      ]
    },
    {
      "cell_type": "code",
      "metadata": {
        "id": "tZI0CZAVackw",
        "colab_type": "code",
        "colab": {}
      },
      "source": [
        "# lets say we want to save this model\n",
        "model.save('housing_model.h5')"
      ],
      "execution_count": 0,
      "outputs": []
    },
    {
      "cell_type": "code",
      "metadata": {
        "id": "QWj0hOWIa0Cc",
        "colab_type": "code",
        "colab": {}
      },
      "source": [
        "# if we don't want to retrain the model\n",
        "old_model = keras.models.load_model('housing_model.h5')"
      ],
      "execution_count": 0,
      "outputs": []
    },
    {
      "cell_type": "code",
      "metadata": {
        "id": "XHz3TIMmbegf",
        "colab_type": "code",
        "colab": {
          "base_uri": "https://localhost:8080/",
          "height": 69
        },
        "outputId": "6c15b238-313e-496d-e940-81b4da1fe6d9"
      },
      "source": [
        "df.columns"
      ],
      "execution_count": 25,
      "outputs": [
        {
          "output_type": "execute_result",
          "data": {
            "text/plain": [
              "Index(['YearBuilt', '2ndFlrSF', 'GrLivArea', 'FullBath', 'HalfBath',\n",
              "       'BedroomAbvGr', 'TotRmsAbvGrd', 'YrSold', 'SalePrice'],\n",
              "      dtype='object')"
            ]
          },
          "metadata": {
            "tags": []
          },
          "execution_count": 25
        }
      ]
    },
    {
      "cell_type": "code",
      "metadata": {
        "id": "xZV7L-uVbTJN",
        "colab_type": "code",
        "colab": {
          "base_uri": "https://localhost:8080/",
          "height": 35
        },
        "outputId": "45e2f6da-e44d-426d-fa89-5828859d8158"
      },
      "source": [
        "\n",
        "test_data = np.array([2020,\t1854,\t1810,\t5,\t1,\t4,\t10,\t2020])\n",
        "#actual sale price is 208500\n",
        "print(model.predict(test_data.reshape(1,8), batch_size=1))"
      ],
      "execution_count": 26,
      "outputs": [
        {
          "output_type": "stream",
          "text": [
            "[[243875.27]]\n"
          ],
          "name": "stdout"
        }
      ]
    },
    {
      "cell_type": "code",
      "metadata": {
        "id": "yRnzr4MKbWXP",
        "colab_type": "code",
        "colab": {
          "base_uri": "https://localhost:8080/",
          "height": 35
        },
        "outputId": "6241ebd8-9647-4016-e2ba-790f4c117f63"
      },
      "source": [
        "test_data = np.array([2003,\t854,\t1710,\t2,\t1,\t3,\t8,\t2020])\n",
        "#actual sale price is 208500\n",
        "print(model.predict(test_data.reshape(1,8), batch_size=1))"
      ],
      "execution_count": 28,
      "outputs": [
        {
          "output_type": "stream",
          "text": [
            "[[208359.44]]\n"
          ],
          "name": "stdout"
        }
      ]
    },
    {
      "cell_type": "code",
      "metadata": {
        "id": "yhZlt1Ugb2ch",
        "colab_type": "code",
        "colab": {}
      },
      "source": [
        ""
      ],
      "execution_count": 0,
      "outputs": []
    }
  ]
}