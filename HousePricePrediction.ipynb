{
  "nbformat": 4,
  "nbformat_minor": 0,
  "metadata": {
    "colab": {
      "name": "HousePricePrediction.ipynb",
      "provenance": [],
      "authorship_tag": "ABX9TyOnpdHt9o2F3caztI90rI2R",
      "include_colab_link": true
    },
    "kernelspec": {
      "name": "python3",
      "display_name": "Python 3"
    }
  },
  "cells": [
    {
      "cell_type": "markdown",
      "metadata": {
        "id": "view-in-github",
        "colab_type": "text"
      },
      "source": [
        "<a href=\"https://colab.research.google.com/github/dariushazimi/PredictingHousePrices/blob/master/HousePricePrediction.ipynb\" target=\"_parent\"><img src=\"https://colab.research.google.com/assets/colab-badge.svg\" alt=\"Open In Colab\"/></a>"
      ]
    },
    {
      "cell_type": "code",
      "metadata": {
        "id": "NwHab_E-P3Ou",
        "colab_type": "code",
        "outputId": "b13bd72f-1570-4861-b9b2-b43a028c1dce",
        "colab": {
          "base_uri": "https://localhost:8080/",
          "height": 35
        }
      },
      "source": [
        "import keras"
      ],
      "execution_count": 0,
      "outputs": [
        {
          "output_type": "stream",
          "text": [
            "Using TensorFlow backend.\n"
          ],
          "name": "stderr"
        }
      ]
    },
    {
      "cell_type": "code",
      "metadata": {
        "id": "vcgIPcQ8P40Y",
        "colab_type": "code",
        "colab": {}
      },
      "source": [
        "import numpy as np\n",
        "import pandas as pd\n",
        "import matplotlib.pyplot as plt"
      ],
      "execution_count": 0,
      "outputs": []
    },
    {
      "cell_type": "code",
      "metadata": {
        "id": "qubmg4K3P6gR",
        "colab_type": "code",
        "colab": {}
      },
      "source": [
        "df = pd.read_csv(\"https://raw.githubusercontent.com/KhanradCoder/LearnKeras/master/1.LinearRegression/IowaHousingPrices.csv\")"
      ],
      "execution_count": 0,
      "outputs": []
    },
    {
      "cell_type": "code",
      "metadata": {
        "id": "8njXYtSOQOba",
        "colab_type": "code",
        "colab": {}
      },
      "source": [
        "squareFeet = df[['SquareFeet']].values\n",
        "salePrice = df[['SalePrice']].values"
      ],
      "execution_count": 0,
      "outputs": []
    },
    {
      "cell_type": "code",
      "metadata": {
        "id": "ZzYwnBw_QvIV",
        "colab_type": "code",
        "colab": {}
      },
      "source": [
        "# Build the model\n",
        "# create the model\n",
        "model = keras.Sequential()\n",
        "model.add(keras.layers.Dense(1, input_shape = (1, )))"
      ],
      "execution_count": 0,
      "outputs": []
    },
    {
      "cell_type": "code",
      "metadata": {
        "id": "3JH9FIHhQP1Q",
        "colab_type": "code",
        "colab": {}
      },
      "source": [
        "# next compile the model\n",
        "model.compile(keras.optimizers.adam(lr=1), 'mean_squared_error')"
      ],
      "execution_count": 0,
      "outputs": []
    },
    {
      "cell_type": "code",
      "metadata": {
        "id": "dJ3u9Dp0RunW",
        "colab_type": "code",
        "outputId": "ff0938fa-d436-42a7-8f8b-80bc12ba8622",
        "colab": {
          "base_uri": "https://localhost:8080/",
          "height": 1000
        }
      },
      "source": [
        "# fit the model which is basically to train the mode\n",
        "model.fit(squareFeet, salePrice, epochs = 30)\n",
        "# epochs are the number of time that will run over the same data\n",
        "# the larger the data set, you want larger epochs.\n",
        "# since we data is small we can run a big epochs\n",
        "# batch size is the number of inputs"
      ],
      "execution_count": 0,
      "outputs": [
        {
          "output_type": "stream",
          "text": [
            "Epoch 1/30\n",
            "1460/1460 [==============================] - 0s 53us/step - loss: 27569030842.5644\n",
            "Epoch 2/30\n",
            "1460/1460 [==============================] - 0s 30us/step - loss: 11981529456.9205\n",
            "Epoch 3/30\n",
            "1460/1460 [==============================] - 0s 28us/step - loss: 5607940209.9726\n",
            "Epoch 4/30\n",
            "1460/1460 [==============================] - 0s 27us/step - loss: 3672892092.6685\n",
            "Epoch 5/30\n",
            "1460/1460 [==============================] - 0s 30us/step - loss: 3238969411.3315\n",
            "Epoch 6/30\n",
            "1460/1460 [==============================] - 0s 27us/step - loss: 3183841177.6000\n",
            "Epoch 7/30\n",
            "1460/1460 [==============================] - 0s 27us/step - loss: 3180436907.4849\n",
            "Epoch 8/30\n",
            "1460/1460 [==============================] - 0s 29us/step - loss: 3180088996.1205\n",
            "Epoch 9/30\n",
            "1460/1460 [==============================] - 0s 27us/step - loss: 3183208405.9178\n",
            "Epoch 10/30\n",
            "1460/1460 [==============================] - 0s 31us/step - loss: 3179167244.6247\n",
            "Epoch 11/30\n",
            "1460/1460 [==============================] - 0s 30us/step - loss: 3181991699.6384\n",
            "Epoch 12/30\n",
            "1460/1460 [==============================] - 0s 29us/step - loss: 3183233861.4356\n",
            "Epoch 13/30\n",
            "1460/1460 [==============================] - 0s 30us/step - loss: 3179878994.0603\n",
            "Epoch 14/30\n",
            "1460/1460 [==============================] - 0s 27us/step - loss: 3186580017.2712\n",
            "Epoch 15/30\n",
            "1460/1460 [==============================] - 0s 28us/step - loss: 3180158336.7014\n",
            "Epoch 16/30\n",
            "1460/1460 [==============================] - 0s 28us/step - loss: 3181146858.2575\n",
            "Epoch 17/30\n",
            "1460/1460 [==============================] - 0s 27us/step - loss: 3178748442.6521\n",
            "Epoch 18/30\n",
            "1460/1460 [==============================] - 0s 28us/step - loss: 3179154845.8082\n",
            "Epoch 19/30\n",
            "1460/1460 [==============================] - 0s 27us/step - loss: 3182633123.0685\n",
            "Epoch 20/30\n",
            "1460/1460 [==============================] - 0s 29us/step - loss: 3179444193.1397\n",
            "Epoch 21/30\n",
            "1460/1460 [==============================] - 0s 31us/step - loss: 3181351244.4493\n",
            "Epoch 22/30\n",
            "1460/1460 [==============================] - 0s 28us/step - loss: 3182797939.7260\n",
            "Epoch 23/30\n",
            "1460/1460 [==============================] - 0s 28us/step - loss: 3180852715.6603\n",
            "Epoch 24/30\n",
            "1460/1460 [==============================] - 0s 29us/step - loss: 3183818373.2603\n",
            "Epoch 25/30\n",
            "1460/1460 [==============================] - 0s 28us/step - loss: 3186728393.2932\n",
            "Epoch 26/30\n",
            "1460/1460 [==============================] - 0s 28us/step - loss: 3184668888.0219\n",
            "Epoch 27/30\n",
            "1460/1460 [==============================] - 0s 27us/step - loss: 3185154209.3151\n",
            "Epoch 28/30\n",
            "1460/1460 [==============================] - 0s 29us/step - loss: 3189878174.1589\n",
            "Epoch 29/30\n",
            "1460/1460 [==============================] - 0s 30us/step - loss: 3177822896.7452\n",
            "Epoch 30/30\n",
            "1460/1460 [==============================] - 0s 30us/step - loss: 3181489774.1151\n"
          ],
          "name": "stdout"
        },
        {
          "output_type": "execute_result",
          "data": {
            "text/plain": [
              "<keras.callbacks.callbacks.History at 0x7f527c1e91d0>"
            ]
          },
          "metadata": {
            "tags": []
          },
          "execution_count": 32
        }
      ]
    },
    {
      "cell_type": "code",
      "metadata": {
        "id": "6bOImmgPSkJT",
        "colab_type": "code",
        "outputId": "9a4dd874-730b-49b1-9f88-2eb028a53482",
        "colab": {
          "base_uri": "https://localhost:8080/",
          "height": 313
        }
      },
      "source": [
        "# Now to plot the results and see how the model did\n",
        "df.plot(kind='scatter', x= 'SquareFeet', y='SalePrice', title = 'housing prices and square footage')\n",
        "y_pred = model.predict(square_feet)\n",
        "#y_pred is the y hat\n",
        "\n",
        "plt.plot(square_feet, y_pred, color='purple')"
      ],
      "execution_count": 0,
      "outputs": [
        {
          "output_type": "execute_result",
          "data": {
            "text/plain": [
              "[<matplotlib.lines.Line2D at 0x7f527c153b38>]"
            ]
          },
          "metadata": {
            "tags": []
          },
          "execution_count": 35
        },
        {
          "output_type": "display_data",
          "data": {
            "image/png": "[encoded data removed]",
            "text/plain": [
              "<Figure size 432x288 with 1 Axes>"
            ]
          },
          "metadata": {
            "tags": [],
            "needs_background": "light"
          }
        }
      ]
    },
    {
      "cell_type": "code",
      "metadata": {
        "id": "P1mHbgmrS2ob",
        "colab_type": "code",
        "outputId": "6c9b7655-c490-4274-f219-5ac279eecf0f",
        "colab": {
          "base_uri": "https://localhost:8080/",
          "height": 35
        }
      },
      "source": [
        "newSF = 2000\n",
        "print(model.predict([newSF]))"
      ],
      "execution_count": 0,
      "outputs": [
        {
          "output_type": "stream",
          "text": [
            "[[236692.9]]\n"
          ],
          "name": "stdout"
        }
      ]
    },
    {
      "cell_type": "code",
      "metadata": {
        "id": "rgFXwBWpVPpZ",
        "colab_type": "code",
        "outputId": "0da5c9e3-b60d-478e-d1a6-b8ed6029c8ef",
        "colab": {
          "base_uri": "https://localhost:8080/",
          "height": 35
        }
      },
      "source": [
        "newSF = 4000\n",
        "print(model.predict([newSF]))"
      ],
      "execution_count": 0,
      "outputs": [
        {
          "output_type": "stream",
          "text": [
            "[[473203.]]\n"
          ],
          "name": "stdout"
        }
      ]
    },
    {
      "cell_type": "code",
      "metadata": {
        "id": "WHuWS3RVVTCn",
        "colab_type": "code",
        "outputId": "76595164-217a-4030-a95f-c4254423ccb3",
        "colab": {
          "base_uri": "https://localhost:8080/",
          "height": 35
        }
      },
      "source": [
        "newSF = 2200\n",
        "print(model.predict([newSF]))"
      ],
      "execution_count": 0,
      "outputs": [
        {
          "output_type": "stream",
          "text": [
            "[[260343.92]]\n"
          ],
          "name": "stdout"
        }
      ]
    },
    {
      "cell_type": "markdown",
      "metadata": {
        "id": "NvQVtCKXWGLX",
        "colab_type": "text"
      },
      "source": [
        "To predict house prices and account for other features such as neighbourhood and or upgrades we need to create a DNN deep NN\n",
        "See next file"
      ]
    },
    {
      "cell_type": "code",
      "metadata": {
        "id": "-sGhQtMxVVuh",
        "colab_type": "code",
        "colab": {}
      },
      "source": [
        ""
      ],
      "execution_count": 0,
      "outputs": []
    }
  ]
}